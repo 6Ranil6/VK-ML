{
 "cells": [
  {
   "cell_type": "code",
   "execution_count": null,
   "metadata": {},
   "outputs": [
    {
     "data": {
      "text/plain": [
       "np.int64(3)"
      ]
     },
     "execution_count": 3,
     "metadata": {},
     "output_type": "execute_result"
    }
   ],
   "source": [
    "# 1 Подсчитать произведение ненулевых элементов на диагонали прямоугольной матрицы.\n",
    "\n",
    "import numpy as np\n",
    "\n",
    "def product_of_diagonal_elements_vectorized(matrix: np.array):\n",
    "    mask = np.diag(matrix) != 0\n",
    "    return np.diag(matrix)[mask].prod();\n",
    "\n",
    "product_of_diagonal_elements_vectorized(np.array([[1, 0, 1], [2, 0, 2], [3, 0, 3], [4, 4, 4]]))\n"
   ]
  },
  {
   "cell_type": "code",
   "execution_count": null,
   "metadata": {},
   "outputs": [],
   "source": [
    "# 2 Даны два вектора x и y. Проверить, задают ли они одно и то же мультимножество.\n",
    "\n",
    "def are_equal_multisets_vectorized(x: np.array, y: np.array): \n",
    "    x_value, x_count = np.unique(x, return_counts= True)\n",
    "    y_value, y_count = np.unique(y, return_counts= True)\n",
    "    return (np.array_equal(x_value, y_value) and np.array_equal(x_count, y_count))\n",
    "\n"
   ]
  },
  {
   "cell_type": "code",
   "execution_count": null,
   "metadata": {},
   "outputs": [
    {
     "data": {
      "text/plain": [
       "np.int64(5)"
      ]
     },
     "execution_count": 107,
     "metadata": {},
     "output_type": "execute_result"
    }
   ],
   "source": [
    "# 3 Найти максимальный элемент в векторе x среди элементов, перед которыми стоит нулевой.\n",
    "\n",
    "def max_before_zero_vectorized(x: np.array):\n",
    "    temp = x.copy()\n",
    "    if x[x.size - 1] == 0:\n",
    "        temp = temp[:-2]\n",
    "    zero_index = np.where(temp == 0)[0]\n",
    "    x[zero_index + 1].max()\n",
    "\n",
    "    \n"
   ]
  },
  {
   "cell_type": "code",
   "execution_count": null,
   "metadata": {},
   "outputs": [
    {
     "ename": "IndexError",
     "evalue": "tuple index out of range",
     "output_type": "error",
     "traceback": [
      "\u001b[0;31m---------------------------------------------------------------------------\u001b[0m",
      "\u001b[0;31mIndexError\u001b[0m                                Traceback (most recent call last)",
      "Cell \u001b[0;32mIn[95], line 14\u001b[0m\n\u001b[1;32m     11\u001b[0m     \u001b[38;5;28;01mreturn\u001b[39;00m grayscale_image\n\u001b[1;32m     13\u001b[0m x \u001b[38;5;241m=\u001b[39m np\u001b[38;5;241m.\u001b[39marray([\u001b[38;5;241m100\u001b[39m, \u001b[38;5;241m100\u001b[39m, \u001b[38;5;241m3\u001b[39m])\n\u001b[0;32m---> 14\u001b[0m \u001b[43madd_weighted_channels_vectorized\u001b[49m\u001b[43m(\u001b[49m\u001b[43mx\u001b[49m\u001b[43m)\u001b[49m\n",
      "Cell \u001b[0;32mIn[95], line 10\u001b[0m, in \u001b[0;36madd_weighted_channels_vectorized\u001b[0;34m(image)\u001b[0m\n\u001b[1;32m      8\u001b[0m \u001b[38;5;28;01mdef\u001b[39;00m\u001b[38;5;250m \u001b[39m\u001b[38;5;21madd_weighted_channels_vectorized\u001b[39m(image: np\u001b[38;5;241m.\u001b[39marray):\n\u001b[1;32m      9\u001b[0m     weights \u001b[38;5;241m=\u001b[39m np\u001b[38;5;241m.\u001b[39marray([\u001b[38;5;241m0.299\u001b[39m, \u001b[38;5;241m0.587\u001b[39m, \u001b[38;5;241m0.114\u001b[39m])\n\u001b[0;32m---> 10\u001b[0m     grayscale_image \u001b[38;5;241m=\u001b[39m \u001b[43mnp\u001b[49m\u001b[38;5;241;43m.\u001b[39;49m\u001b[43mtensordot\u001b[49m\u001b[43m(\u001b[49m\u001b[43mimage\u001b[49m\u001b[43m,\u001b[49m\u001b[43m \u001b[49m\u001b[43mweights\u001b[49m\u001b[43m,\u001b[49m\u001b[43m \u001b[49m\u001b[43maxes\u001b[49m\u001b[38;5;241;43m=\u001b[39;49m\u001b[43m(\u001b[49m\u001b[43m[\u001b[49m\u001b[38;5;241;43m2\u001b[39;49m\u001b[43m]\u001b[49m\u001b[43m,\u001b[49m\u001b[43m \u001b[49m\u001b[43m[\u001b[49m\u001b[38;5;241;43m0\u001b[39;49m\u001b[43m]\u001b[49m\u001b[43m)\u001b[49m\u001b[43m)\u001b[49m\n\u001b[1;32m     11\u001b[0m     \u001b[38;5;28;01mreturn\u001b[39;00m grayscale_image\n",
      "File \u001b[0;32m~/anaconda3/envs/math/lib/python3.13/site-packages/numpy/_core/numeric.py:1151\u001b[0m, in \u001b[0;36mtensordot\u001b[0;34m(a, b, axes)\u001b[0m\n\u001b[1;32m   1149\u001b[0m \u001b[38;5;28;01melse\u001b[39;00m:\n\u001b[1;32m   1150\u001b[0m     \u001b[38;5;28;01mfor\u001b[39;00m k \u001b[38;5;129;01min\u001b[39;00m \u001b[38;5;28mrange\u001b[39m(na):\n\u001b[0;32m-> 1151\u001b[0m         \u001b[38;5;28;01mif\u001b[39;00m \u001b[43mas_\u001b[49m\u001b[43m[\u001b[49m\u001b[43maxes_a\u001b[49m\u001b[43m[\u001b[49m\u001b[43mk\u001b[49m\u001b[43m]\u001b[49m\u001b[43m]\u001b[49m \u001b[38;5;241m!=\u001b[39m bs[axes_b[k]]:\n\u001b[1;32m   1152\u001b[0m             equal \u001b[38;5;241m=\u001b[39m \u001b[38;5;28;01mFalse\u001b[39;00m\n\u001b[1;32m   1153\u001b[0m             \u001b[38;5;28;01mbreak\u001b[39;00m\n",
      "\u001b[0;31mIndexError\u001b[0m: tuple index out of range"
     ]
    }
   ],
   "source": [
    "# 4 Операции с изображением.\n",
    "# Дан трёхмерный массив, содержащий изображение, размера (height, width, numChannels), а также вектор длины numChannels. \n",
    "\n",
    "# Сложить каналы изображения с указанными весами, и вернуть результат в виде матрицы размера (height, width). Считать реальное изображение можно при помощи функции scipy.misc.imread (если изображение не в формате png, установите пакет pillow: conda install pillow). \n",
    "\n",
    "# Преобразуйте цветное изображение в оттенки серого, использовав коэффициенты np.array([0.299, 0.587, 0.114]).\n",
    "\n",
    "def add_weighted_channels_vectorized(image: np.array):\n",
    "    weights = np.array([0.299, 0.587, 0.114])\n",
    "    grayscale_image = np.tensordot(image, weights, axes=([2], [0]))\n",
    "    return grayscale_image\n"
   ]
  },
  {
   "cell_type": "code",
   "execution_count": null,
   "metadata": {},
   "outputs": [
    {
     "data": {
      "text/plain": [
       "(array([2, 3, 5, 2]), array([3, 3, 1, 2]))"
      ]
     },
     "execution_count": 93,
     "metadata": {},
     "output_type": "execute_result"
    }
   ],
   "source": [
    "# 5 Реализовать кодирование длин серий (Run-length encoding). Дан вектор x. Необходимо вернуть кортеж из двух векторов одинаковой длины. Первый содержит числа, а второй - сколько раз их нужно повторить.\n",
    "def run_length_encoding_vectorized(x: np.array):\n",
    "    x = np.array([2, 2, 2, 3, 3, 3, 5, 2, 2])\n",
    "    diff = np.diff(x)\n",
    "    x_values = np.array([x[0], *x[1:][diff != 0]])\n",
    "    x_indeces = np.where(diff != 0)[0] + 1\n",
    "    x_indeces = np.array([0, *x_indeces, x.size])\n",
    "    x_counts = np.diff(x_indeces)\n",
    "    return x_values, x_counts\n"
   ]
  }
 ],
 "metadata": {
  "kernelspec": {
   "display_name": "math",
   "language": "python",
   "name": "python3"
  },
  "language_info": {
   "codemirror_mode": {
    "name": "ipython",
    "version": 3
   },
   "file_extension": ".py",
   "mimetype": "text/x-python",
   "name": "python",
   "nbconvert_exporter": "python",
   "pygments_lexer": "ipython3",
   "version": "3.13.2"
  }
 },
 "nbformat": 4,
 "nbformat_minor": 2
}
